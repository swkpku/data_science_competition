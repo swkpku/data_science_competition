{
 "cells": [
  {
   "cell_type": "code",
   "execution_count": 1,
   "metadata": {},
   "outputs": [
    {
     "name": "stdout",
     "output_type": "stream",
     "text": [
      "category_names.csv\n",
      "sample_submission.csv\n",
      "test.bson\n",
      "train_block_1.bson\n",
      "train_block_2.bson\n",
      "train_block_3.bson\n",
      "train_block_4.bson\n",
      "train_block_5.bson\n",
      "train.bson\n",
      "train_example.bson\n",
      "\n"
     ]
    }
   ],
   "source": [
    "import os, sys, math, io\n",
    "import numpy as np\n",
    "import pandas as pd\n",
    "import multiprocessing as mp\n",
    "import bson\n",
    "import struct\n",
    "\n",
    "%matplotlib inline\n",
    "import matplotlib.pyplot as plt\n",
    "\n",
    "import tensorflow as tf\n",
    "\n",
    "from collections import defaultdict\n",
    "from tqdm import *\n",
    "\n",
    "data_dir = '/mnt/data/cdiscount/'\n",
    "\n",
    "from subprocess import check_output\n",
    "print(check_output([\"ls\", data_dir]).decode(\"utf8\"))\n",
    "\n",
    "# Any results you write to the current directory are saved as output."
   ]
  },
  {
   "cell_type": "code",
   "execution_count": 2,
   "metadata": {},
   "outputs": [],
   "source": [
    "train_block_1_bson_path = os.path.join(data_dir, \"train_block_1.bson\")\n",
    "train_block_2_bson_path = os.path.join(data_dir, \"train_block_2.bson\")\n",
    "train_block_3_bson_path = os.path.join(data_dir, \"train_block_3.bson\")\n",
    "train_block_4_bson_path = os.path.join(data_dir, \"train_block_4.bson\")\n",
    "train_block_5_bson_path = os.path.join(data_dir, \"train_block_5.bson\")\n",
    "\n",
    "num_train_block_products = 1413980"
   ]
  },
  {
   "cell_type": "code",
   "execution_count": 3,
   "metadata": {},
   "outputs": [
    {
     "name": "stderr",
     "output_type": "stream",
     "text": [
      " 80%|████████  | 1413980/1767474 [00:17<00:04, 79507.70it/s]\n",
      "  0%|          | 0/1767474 [00:00<?, ?it/s]"
     ]
    },
    {
     "name": "stdout",
     "output_type": "stream",
     "text": [
      "CPU times: user 17.1 s, sys: 4.02 s, total: 21.1 s\n",
      "Wall time: 21.1 s\n"
     ]
    },
    {
     "name": "stderr",
     "output_type": "stream",
     "text": [
      " 80%|███████▉  | 1413979/1767474 [00:20<00:05, 69562.66it/s]\n",
      "  1%|          | 9370/1767474 [00:00<00:18, 93696.07it/s]"
     ]
    },
    {
     "name": "stdout",
     "output_type": "stream",
     "text": [
      "CPU times: user 17.3 s, sys: 4.33 s, total: 21.6 s\n",
      "Wall time: 23.6 s\n"
     ]
    },
    {
     "name": "stderr",
     "output_type": "stream",
     "text": [
      " 80%|███████▉  | 1413979/1767474 [00:19<00:04, 73671.61it/s]\n",
      "  0%|          | 5390/1767474 [00:00<00:32, 53890.42it/s]"
     ]
    },
    {
     "name": "stdout",
     "output_type": "stream",
     "text": [
      "CPU times: user 17 s, sys: 4.56 s, total: 21.5 s\n",
      "Wall time: 22.4 s\n"
     ]
    },
    {
     "name": "stderr",
     "output_type": "stream",
     "text": [
      " 80%|███████▉  | 1413979/1767474 [00:43<00:10, 32630.69it/s]\n",
      "  0%|          | 5346/1767474 [00:00<00:32, 53449.98it/s]"
     ]
    },
    {
     "name": "stdout",
     "output_type": "stream",
     "text": [
      "CPU times: user 20.9 s, sys: 7.58 s, total: 28.5 s\n",
      "Wall time: 46.7 s\n"
     ]
    },
    {
     "name": "stderr",
     "output_type": "stream",
     "text": [
      " 80%|███████▉  | 1413979/1767474 [00:38<00:09, 36798.22it/s]\n"
     ]
    },
    {
     "name": "stdout",
     "output_type": "stream",
     "text": [
      "CPU times: user 21.3 s, sys: 7.15 s, total: 28.5 s\n",
      "Wall time: 41.8 s\n"
     ]
    }
   ],
   "source": [
    "def read_bson(bson_path, num_records, with_categories):\n",
    "    rows = {}\n",
    "    with open(bson_path, \"rb\") as f, tqdm(total=num_records) as pbar:\n",
    "        offset = 0\n",
    "        while True:\n",
    "            item_length_bytes = f.read(4)\n",
    "            if len(item_length_bytes) == 0:\n",
    "                break\n",
    "\n",
    "            length = struct.unpack(\"<i\", item_length_bytes)[0]\n",
    "\n",
    "            f.seek(offset)\n",
    "            item_data = f.read(length)\n",
    "            assert len(item_data) == length\n",
    "\n",
    "            item = bson.BSON.decode(item_data)\n",
    "            product_id = item[\"_id\"]\n",
    "            num_imgs = len(item[\"imgs\"])\n",
    "\n",
    "            row = [num_imgs, offset, length]\n",
    "            if with_categories:\n",
    "                row += [item[\"category_id\"]]\n",
    "            rows[product_id] = row\n",
    "\n",
    "            offset += length\n",
    "            f.seek(offset)\n",
    "            pbar.update()\n",
    "\n",
    "    columns = [\"num_imgs\", \"offset\", \"length\"]\n",
    "    if with_categories:\n",
    "        columns += [\"category_id\"]\n",
    "\n",
    "    df = pd.DataFrame.from_dict(rows, orient=\"index\")\n",
    "    df.index.name = \"product_id\"\n",
    "    df.columns = columns\n",
    "    df.sort_index(inplace=True)\n",
    "    return df\n",
    "\n",
    "%time train_block_1_offsets_df = read_bson(train_block_1_bson_path, num_records=num_train_block_products, with_categories=True)\n",
    "%time train_block_2_offsets_df = read_bson(train_block_2_bson_path, num_records=num_train_block_products, with_categories=True)\n",
    "%time train_block_3_offsets_df = read_bson(train_block_3_bson_path, num_records=num_train_block_products, with_categories=True)\n",
    "%time train_block_4_offsets_df = read_bson(train_block_4_bson_path, num_records=num_train_block_products, with_categories=True)\n",
    "%time train_block_5_offsets_df = read_bson(train_block_5_bson_path, num_records=num_train_block_products, with_categories=True)"
   ]
  },
  {
   "cell_type": "code",
   "execution_count": 4,
   "metadata": {},
   "outputs": [
    {
     "data": {
      "text/html": [
       "<div>\n",
       "<style>\n",
       "    .dataframe thead tr:only-child th {\n",
       "        text-align: right;\n",
       "    }\n",
       "\n",
       "    .dataframe thead th {\n",
       "        text-align: left;\n",
       "    }\n",
       "\n",
       "    .dataframe tbody tr th {\n",
       "        vertical-align: top;\n",
       "    }\n",
       "</style>\n",
       "<table border=\"1\" class=\"dataframe\">\n",
       "  <thead>\n",
       "    <tr style=\"text-align: right;\">\n",
       "      <th></th>\n",
       "      <th>num_imgs</th>\n",
       "      <th>offset</th>\n",
       "      <th>length</th>\n",
       "      <th>category_id</th>\n",
       "    </tr>\n",
       "    <tr>\n",
       "      <th>product_id</th>\n",
       "      <th></th>\n",
       "      <th></th>\n",
       "      <th></th>\n",
       "      <th></th>\n",
       "    </tr>\n",
       "  </thead>\n",
       "  <tbody>\n",
       "    <tr>\n",
       "      <th>4</th>\n",
       "      <td>1</td>\n",
       "      <td>0</td>\n",
       "      <td>6346</td>\n",
       "      <td>1000015539</td>\n",
       "    </tr>\n",
       "    <tr>\n",
       "      <th>9</th>\n",
       "      <td>1</td>\n",
       "      <td>6346</td>\n",
       "      <td>7461</td>\n",
       "      <td>1000018290</td>\n",
       "    </tr>\n",
       "    <tr>\n",
       "      <th>16</th>\n",
       "      <td>1</td>\n",
       "      <td>13807</td>\n",
       "      <td>7078</td>\n",
       "      <td>1000010653</td>\n",
       "    </tr>\n",
       "    <tr>\n",
       "      <th>22</th>\n",
       "      <td>1</td>\n",
       "      <td>20885</td>\n",
       "      <td>1727</td>\n",
       "      <td>1000005910</td>\n",
       "    </tr>\n",
       "    <tr>\n",
       "      <th>31</th>\n",
       "      <td>1</td>\n",
       "      <td>22612</td>\n",
       "      <td>7867</td>\n",
       "      <td>1000010653</td>\n",
       "    </tr>\n",
       "  </tbody>\n",
       "</table>\n",
       "</div>"
      ],
      "text/plain": [
       "            num_imgs  offset  length  category_id\n",
       "product_id                                       \n",
       "4                  1       0    6346   1000015539\n",
       "9                  1    6346    7461   1000018290\n",
       "16                 1   13807    7078   1000010653\n",
       "22                 1   20885    1727   1000005910\n",
       "31                 1   22612    7867   1000010653"
      ]
     },
     "execution_count": 4,
     "metadata": {},
     "output_type": "execute_result"
    }
   ],
   "source": [
    "train_block_1_offsets_df.head()\n",
    "train_block_2_offsets_df.head()\n",
    "train_block_3_offsets_df.head()\n",
    "train_block_4_offsets_df.head()\n",
    "train_block_5_offsets_df.head()"
   ]
  },
  {
   "cell_type": "code",
   "execution_count": 5,
   "metadata": {},
   "outputs": [],
   "source": [
    "train_block_1_offsets_df.to_csv(\"train_block_1_offsets.csv\")\n",
    "train_block_2_offsets_df.to_csv(\"train_block_2_offsets.csv\")\n",
    "train_block_3_offsets_df.to_csv(\"train_block_3_offsets.csv\")\n",
    "train_block_4_offsets_df.to_csv(\"train_block_4_offsets.csv\")\n",
    "train_block_5_offsets_df.to_csv(\"train_block_5_offsets.csv\")"
   ]
  },
  {
   "cell_type": "code",
   "execution_count": 6,
   "metadata": {},
   "outputs": [
    {
     "name": "stdout",
     "output_type": "stream",
     "text": [
      "block 1\n",
      "number of products = 1413980\n",
      "number of catagories = 5260\n",
      "number of images = 2474125\n",
      "block 2\n",
      "number of products = 1413979\n",
      "number of catagories = 5254\n",
      "number of images = 2472965\n",
      "block 3\n",
      "number of products = 1413979\n",
      "number of catagories = 5265\n",
      "number of images = 2474710\n",
      "block 4\n",
      "number of products = 1413979\n",
      "number of catagories = 5261\n",
      "number of images = 2474967\n",
      "block 5\n",
      "number of products = 1413979\n",
      "number of catagories = 5258\n",
      "number of images = 2474526\n"
     ]
    }
   ],
   "source": [
    "print('block 1')\n",
    "print('number of products = %d' % len(train_block_1_offsets_df))\n",
    "print('number of catagories = %d' % len(train_block_1_offsets_df[\"category_id\"].unique()))\n",
    "print('number of images = %d' % train_block_1_offsets_df[\"num_imgs\"].sum())\n",
    "\n",
    "print('block 2')\n",
    "print('number of products = %d' % len(train_block_2_offsets_df))\n",
    "print('number of catagories = %d' % len(train_block_2_offsets_df[\"category_id\"].unique()))\n",
    "print('number of images = %d' % train_block_2_offsets_df[\"num_imgs\"].sum())\n",
    "\n",
    "print('block 3')\n",
    "print('number of products = %d' % len(train_block_3_offsets_df))\n",
    "print('number of catagories = %d' % len(train_block_3_offsets_df[\"category_id\"].unique()))\n",
    "print('number of images = %d' % train_block_3_offsets_df[\"num_imgs\"].sum())\n",
    "\n",
    "print('block 4')\n",
    "print('number of products = %d' % len(train_block_4_offsets_df))\n",
    "print('number of catagories = %d' % len(train_block_4_offsets_df[\"category_id\"].unique()))\n",
    "print('number of images = %d' % train_block_4_offsets_df[\"num_imgs\"].sum())\n",
    "\n",
    "print('block 5')\n",
    "print('number of products = %d' % len(train_block_5_offsets_df))\n",
    "print('number of catagories = %d' % len(train_block_5_offsets_df[\"category_id\"].unique()))\n",
    "print('number of images = %d' % train_block_5_offsets_df[\"num_imgs\"].sum())"
   ]
  },
  {
   "cell_type": "code",
   "execution_count": null,
   "metadata": {
    "collapsed": true
   },
   "outputs": [],
   "source": []
  }
 ],
 "metadata": {
  "kernelspec": {
   "display_name": "Python 3",
   "language": "python",
   "name": "python3"
  },
  "language_info": {
   "codemirror_mode": {
    "name": "ipython",
    "version": 3
   },
   "file_extension": ".py",
   "mimetype": "text/x-python",
   "name": "python",
   "nbconvert_exporter": "python",
   "pygments_lexer": "ipython3",
   "version": "3.5.2"
  }
 },
 "nbformat": 4,
 "nbformat_minor": 2
}
