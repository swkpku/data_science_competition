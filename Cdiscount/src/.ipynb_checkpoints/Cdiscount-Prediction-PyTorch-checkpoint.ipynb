{
 "cells": [
  {
   "cell_type": "code",
   "execution_count": null,
   "metadata": {
    "collapsed": true
   },
   "outputs": [],
   "source": [
    "from predictor.preditor import get_predictor"
   ]
  },
  {
   "cell_type": "code",
   "execution_count": null,
   "metadata": {
    "collapsed": true
   },
   "outputs": [],
   "source": [
    "config = {\n",
    "    'test_batch_size': 1000,\n",
    "    'checkpoint': None,\n",
    "    'print_freq': 10,\n",
    "    'pred_filename': \"Resnet34-Epoch_0-iter-2000.csv\"\n",
    "}"
   ]
  },
  {
   "cell_type": "code",
   "execution_count": null,
   "metadata": {
    "collapsed": true
   },
   "outputs": [],
   "source": [
    "import torchvision.models as models\n",
    "\n",
    "# get dataset\n",
    "print('getting dataset...')\n",
    "test_dataset = get_cdiscount_dataset(offsets_csv=\"test_offsets.csv\",\n",
    "                                     images_csv=\"test_images.csv\",\n",
    "                                     with_label=False,\n",
    "                                     resize=256)\n",
    "\n",
    "# get data loader\n",
    "print('getting data loader...')\n",
    "test_dataloader = DataLoader(train_dataset, batch_size=config['test_batch_size'], shuffle=False, num_workers=6)\n",
    "\n",
    "# define model\n",
    "print(\"=> using pre-trained model '{}'\".format(config['arch']))\n",
    "model = models.__dict__[config['arch']](pretrained=True)\n",
    "model = assemble_model(model, -1, 512, 5270)\n",
    "model = torch.nn.DataParallel(model).cuda()\n",
    "\n",
    "\n",
    "# load checkpoint\n",
    "if !os.path.isfile(config['checkpoint']):\n",
    "    print(\"=> no checkpoint found at '{}'\".format(config['checkpoint']))\n",
    "    \n",
    "print(\"=> loading checkpoint '{}'\".format(config['checkpoint']))\n",
    "checkpoint = torch.load(config['checkpoint'])\n",
    "model.load_state_dict(checkpoint['state_dict'])\n",
    "print(\"=> loaded checkpoint:\")\n",
    "\n",
    "print('Epoch: [{0}][{1}]\\t'\n",
    "      'Loss {loss.val:.4f} ({loss.avg:.4f})\\t'\n",
    "      'Prec@1 {top1.val:.3f} ({top1.avg:.3f})\\t'\n",
    "      'Prec@5 {top5.val:.3f} ({top5.avg:.3f})'.format(\n",
    "       checkpoint['epoch'], i, loss=checkpoint['loss'], top1=checkpoint['top1'], top5=checkpoint['top5']))\n",
    "\n",
    "# get trainer\n",
    "Predictor = get_predictor(test_dataloader, model, config)\n",
    "\n",
    "# Run!\n",
    "Predictor.run()"
   ]
  }
 ],
 "metadata": {
  "kernelspec": {
   "display_name": "Python 3",
   "language": "python",
   "name": "python3"
  },
  "language_info": {
   "codemirror_mode": {
    "name": "ipython",
    "version": 3
   },
   "file_extension": ".py",
   "mimetype": "text/x-python",
   "name": "python",
   "nbconvert_exporter": "python",
   "pygments_lexer": "ipython3",
   "version": "3.5.2"
  }
 },
 "nbformat": 4,
 "nbformat_minor": 2
}
