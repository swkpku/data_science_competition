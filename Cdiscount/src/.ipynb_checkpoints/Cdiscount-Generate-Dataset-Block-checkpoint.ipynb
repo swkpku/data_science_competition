{
 "cells": [
  {
   "cell_type": "code",
   "execution_count": null,
   "metadata": {},
   "outputs": [
    {
     "name": "stdout",
     "output_type": "stream",
     "text": [
      "category_names.csv\n",
      "sample_submission.csv\n",
      "test.bson\n",
      "train.bson\n",
      "train_example.bson\n",
      "\n"
     ]
    }
   ],
   "source": [
    "import os, sys, math, io\n",
    "import numpy as np\n",
    "import pandas as pd\n",
    "import multiprocessing as mp\n",
    "import bson\n",
    "import struct\n",
    "\n",
    "%matplotlib inline\n",
    "import matplotlib.pyplot as plt\n",
    "\n",
    "import tensorflow as tf\n",
    "\n",
    "from collections import defaultdict\n",
    "from tqdm import *\n",
    "\n",
    "data_dir = '/mnt/data/cdiscount/'\n",
    "result_dir = './'\n",
    "\n",
    "from subprocess import check_output\n",
    "print(check_output([\"ls\", data_dir]).decode(\"utf8\"))\n",
    "\n",
    "# Any results you write to the current directory are saved as output."
   ]
  },
  {
   "cell_type": "code",
   "execution_count": null,
   "metadata": {},
   "outputs": [
    {
     "name": "stdout",
     "output_type": "stream",
     "text": [
      "i = 0\n",
      "i = 100000\n",
      "i = 200000\n",
      "i = 300000\n",
      "i = 400000\n",
      "i = 500000\n"
     ]
    }
   ],
   "source": [
    "num_train_products = 7069896\n",
    "num_blocks = 25\n",
    "\n",
    "train_bson = bson.decode_file_iter(open(os.path.join(data_dir, 'train.bson'), 'rb'))\n",
    "\n",
    "block_file_list = []\n",
    "for block_idx in range(num_blocks):\n",
    "    block_file_name = 'train_block_' + str(block_idx) + '.bson'\n",
    "    block_file_list.append(open(os.path.join(data_dir, block_file_name), 'wb'))\n",
    "\n",
    "for i, item in enumerate(train_bson):\n",
    "    block_idx = i % num_blocks\n",
    "    block_file_list[block_idx].write(bson.BSON.encode(item))\n",
    "    \n",
    "    if (i % 100000 == 0):\n",
    "        print('i = %d' % i)"
   ]
  },
  {
   "cell_type": "code",
   "execution_count": 3,
   "metadata": {},
   "outputs": [
    {
     "name": "stdout",
     "output_type": "stream",
     "text": [
      "Filesystem      Size  Used Avail Use% Mounted on\r\n",
      "udev             28G     0   28G   0% /dev\r\n",
      "tmpfs           5.6G   73M  5.5G   2% /run\r\n",
      "/dev/sda1        30G   17G   13G  58% /\r\n",
      "tmpfs            28G     0   28G   0% /dev/shm\r\n",
      "tmpfs           5.0M     0  5.0M   0% /run/lock\r\n",
      "tmpfs            28G     0   28G   0% /sys/fs/cgroup\r\n",
      "/dev/sdb1       335G  132G  187G  42% /mnt\r\n",
      "tmpfs           5.6G   24K  5.6G   1% /run/user/1000\r\n"
     ]
    }
   ],
   "source": [
    "!df -h"
   ]
  },
  {
   "cell_type": "code",
   "execution_count": null,
   "metadata": {
    "collapsed": true
   },
   "outputs": [],
   "source": []
  }
 ],
 "metadata": {
  "kernelspec": {
   "display_name": "Python 3",
   "language": "python",
   "name": "python3"
  },
  "language_info": {
   "codemirror_mode": {
    "name": "ipython",
    "version": 3
   },
   "file_extension": ".py",
   "mimetype": "text/x-python",
   "name": "python",
   "nbconvert_exporter": "python",
   "pygments_lexer": "ipython3",
   "version": "3.5.2"
  }
 },
 "nbformat": 4,
 "nbformat_minor": 2
}
