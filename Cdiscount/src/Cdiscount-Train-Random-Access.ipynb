{
 "cells": [
  {
   "cell_type": "code",
   "execution_count": 1,
   "metadata": {
    "collapsed": true
   },
   "outputs": [],
   "source": [
    "import os, io\n",
    "import numpy as np\n",
    "import pandas as pd\n",
    "from PIL import Image\n",
    "import bson\n",
    "import time\n",
    "\n",
    "import tensorflow as tf\n",
    "\n",
    "%matplotlib inline\n",
    "import matplotlib.pyplot as plt"
   ]
  },
  {
   "cell_type": "code",
   "execution_count": 2,
   "metadata": {},
   "outputs": [
    {
     "name": "stderr",
     "output_type": "stream",
     "text": [
      "/home/weiso/tensorflow/lib/python3.5/site-packages/numpy/lib/arraysetops.py:463: FutureWarning: elementwise comparison failed; returning scalar instead, but in the future will perform elementwise comparison\n",
      "  mask |= (ar1 == a)\n"
     ]
    },
    {
     "name": "stdout",
     "output_type": "stream",
     "text": [
      "num_train_images = 9900946, num_val_images = 2470347, num_test_images = 3095080\n"
     ]
    }
   ],
   "source": [
    "def make_category_tables():\n",
    "    cat2idx = {}\n",
    "    idx2cat = {}\n",
    "    for ir in categories_df.itertuples():\n",
    "        category_id = ir[0]\n",
    "        category_idx = ir[4]\n",
    "        cat2idx[category_id] = category_idx\n",
    "        idx2cat[category_idx] = category_id\n",
    "    return cat2idx, idx2cat\n",
    "\n",
    "categories_df = pd.read_csv(\"categories.csv\", index_col=0)\n",
    "cat2idx, idx2cat = make_category_tables()\n",
    "\n",
    "train_offsets_df = pd.read_csv(\"train_offsets.csv\", index_col=0)\n",
    "train_images_df = pd.read_csv(\"train_images.csv\", index_col=0)\n",
    "val_images_df = pd.read_csv(\"val_images.csv\", index_col=0)\n",
    "\n",
    "test_offsets_df = pd.read_csv(\"test_offsets.csv\", index_col=0)\n",
    "test_images_df = pd.read_csv(\"test_images.csv\", index_col=0)\n",
    "\n",
    "num_train_images = len(train_images_df)\n",
    "num_val_images = len(val_images_df)\n",
    "num_test_images = len(test_images_df)\n",
    "print('num_train_images = %d, num_val_images = %d, num_test_images = %d' % (num_train_images, num_val_images, num_test_images))\n",
    "\n",
    "data_dir = \"/mnt/data/cdiscount/\"\n",
    "\n",
    "train_bson_path = os.path.join(data_dir, \"train.bson\")\n",
    "test_bson_path = os.path.join(data_dir, \"test.bson\")\n",
    "\n",
    "train_bson_file = open(train_bson_path, \"rb\")\n",
    "test_bson_file = open(test_bson_path, \"rb\")\n",
    "\n",
    "batch_size = 512"
   ]
  },
  {
   "cell_type": "code",
   "execution_count": 80,
   "metadata": {
    "collapsed": true
   },
   "outputs": [],
   "source": [
    "image_shape = (128, 128)\n",
    "num_class = 5270\n",
    "\n",
    "def get_batch(bson_file, images_df, offsets_df, index_array, with_labels):\n",
    "    batch_x = np.zeros((len(index_array),) + image_shape + (3, ), dtype=np.float16)\n",
    "    batch_id = np.zeros(len(index_array), dtype=np.uint32)\n",
    "    if with_labels:\n",
    "        batch_y = np.zeros((len(batch_x), num_class), dtype=np.float16)\n",
    "\n",
    "    for i, j in enumerate(index_array):\n",
    "        image_row = images_df.iloc[j]\n",
    "        product_id = image_row[\"product_id\"]\n",
    "        offset_row = offsets_df.loc[product_id]\n",
    "\n",
    "        # Read this product's data from the BSON file.\n",
    "        bson_file.seek(offset_row[\"offset\"])\n",
    "        item_data = bson_file.read(offset_row[\"length\"])\n",
    "\n",
    "        # Grab the image from the product.\n",
    "        item = bson.BSON.decode(item_data)\n",
    "        img_idx = image_row[\"img_idx\"]\n",
    "        bson_img = item[\"imgs\"][img_idx][\"picture\"]\n",
    "\n",
    "        # Preprocess the image.\n",
    "        img = Image.open(io.BytesIO(bson_img))\n",
    "        img = img.resize(image_shape)\n",
    "        x = np.asarray(img, dtype=np.float16)\n",
    "        \n",
    "        #x = self.image_data_generator.random_transform(x)\n",
    "        #x = self.image_data_generator.standardize(x)\n",
    "\n",
    "        # Add the image and the label to the batch (one-hot encoded).\n",
    "        batch_x[i] = x\n",
    "        batch_id[i] = product_id\n",
    "        if with_labels:\n",
    "            batch_y[i, image_row[\"category_idx\"]] = 1\n",
    "\n",
    "    if with_labels:\n",
    "        return batch_x, batch_y, batch_id\n",
    "    else:\n",
    "        return batch_x, batch_id\n"
   ]
  },
  {
   "cell_type": "code",
   "execution_count": 4,
   "metadata": {
    "collapsed": true
   },
   "outputs": [],
   "source": [
    "def model(x):\n",
    "    x = tf.reshape(x, [-1, image_shape[0], image_shape[1], 3])\n",
    "    x = tf.layers.conv2d(x, filters=64, kernel_size=[3, 3], strides=[2, 2], padding='same', activation=tf.nn.relu)\n",
    "    x = tf.layers.batch_normalization(x, training=True)    \n",
    "    x = tf.layers.conv2d(x, filters=64, kernel_size=[3, 3], strides=[1, 1], padding='same', activation=tf.nn.relu)\n",
    "    x = tf.layers.batch_normalization(x, training=True)\n",
    "    \n",
    "    x = tf.layers.conv2d(x, filters=128, kernel_size=[3, 3], strides=[2, 2], padding='same', activation=tf.nn.relu)\n",
    "    x = tf.layers.batch_normalization(x, training=True)\n",
    "    x = tf.layers.conv2d(x, filters=128, kernel_size=[3, 3], strides=[1, 1], padding='same', activation=tf.nn.relu)\n",
    "    x = tf.layers.batch_normalization(x, training=True)\n",
    "\n",
    "    x = tf.layers.conv2d(x, filters=256, kernel_size=[3, 3], strides=[2, 2], padding='same', activation=tf.nn.relu)\n",
    "    x = tf.layers.batch_normalization(x, training=True)\n",
    "    x = tf.layers.conv2d(x, filters=256, kernel_size=[3, 3], strides=[1, 1], padding='same', activation=tf.nn.relu)\n",
    "    x = tf.layers.batch_normalization(x, training=True)    \n",
    "    x = tf.layers.conv2d(x, filters=256, kernel_size=[3, 3], strides=[1, 1], padding='same', activation=tf.nn.relu)\n",
    "    x = tf.layers.batch_normalization(x, training=True)   \n",
    "    x = tf.layers.conv2d(x, filters=256, kernel_size=[3, 3], strides=[1, 1], padding='same', activation=tf.nn.relu)\n",
    "    x = tf.layers.batch_normalization(x, training=True)   \n",
    "    \n",
    "    x = tf.layers.conv2d(x, filters=512, kernel_size=[3, 3], strides=[2, 2], padding='same', activation=tf.nn.relu)\n",
    "    x = tf.layers.batch_normalization(x, training=True)\n",
    "    x = tf.layers.conv2d(x, filters=512, kernel_size=[3, 3], strides=[1, 1], padding='same', activation=tf.nn.relu)\n",
    "    x = tf.layers.batch_normalization(x, training=True)    \n",
    "    x = tf.layers.conv2d(x, filters=512, kernel_size=[3, 3], strides=[1, 1], padding='same', activation=tf.nn.relu)\n",
    "    x = tf.layers.batch_normalization(x, training=True)   \n",
    "    x = tf.layers.conv2d(x, filters=512, kernel_size=[3, 3], strides=[1, 1], padding='same', activation=tf.nn.relu)\n",
    "    x = tf.layers.batch_normalization(x, training=True)  \n",
    "    \n",
    "    x = tf.contrib.layers.flatten(x)\n",
    "    logits = tf.layers.dense(x, num_class)\n",
    "    return logits\n",
    "\n",
    "tf.reset_default_graph()\n",
    "X = tf.placeholder(tf.float32, [None, image_shape[0], image_shape[1], 3])\n",
    "y = tf.placeholder(tf.int64, [None, num_class])\n",
    "\n",
    "logits = model(X)\n",
    "\n",
    "loss = tf.reduce_mean(tf.losses.softmax_cross_entropy(y, logits=logits))\n",
    "\n",
    "predictions = tf.equal(tf.argmax(logits, 1), tf.argmax(y, 1))\n",
    "acc = tf.reduce_mean(tf.cast(predictions, tf.float32))\n",
    "\n",
    "test_predictions = tf.argmax(logits, 1)"
   ]
  },
  {
   "cell_type": "code",
   "execution_count": null,
   "metadata": {
    "collapsed": true
   },
   "outputs": [],
   "source": [
    "train_index_array_all = np.arange(num_train_images)\n",
    "np.random.shuffle(train_index_array_all)\n",
    "\n",
    "val_index_array_all = np.arange(num_val_images)\n",
    "np.random.shuffle(val_index_array_all)\n",
    "\n",
    "test_index_array_all = np.arange(num_test_images)\n",
    "\n",
    "learning_rate = 1e-4\n",
    "num_epochs = 1\n",
    "val_batch_size = 500\n",
    "\n",
    "def run_model(sess, train_step, learning_rate, show_every, validate_every):\n",
    "    for epoch in range(num_epochs):\n",
    "        print('epoch %d:' % epoch)\n",
    "        log_file = open('20170927log.txt', 'a+')\n",
    "        log_file.write('epoch %d: \\n' % epoch)\n",
    "        log_file.close()\n",
    "        start = time.clock()\n",
    "        for iter_i in range(num_train_images // batch_size + 1):\n",
    "            if (iter_i > 3600):\n",
    "                break\n",
    "            train_batch_start_idx = iter_i * batch_size\n",
    "            train_batch_index_array = train_index_array_all[train_batch_start_idx : train_batch_start_idx + batch_size]\n",
    "            train_batch_x, train_batch_y, _ = get_batch(train_bson_file, train_images_df, train_offsets_df, train_batch_index_array, with_labels=True)\n",
    "        \n",
    "            _loss, _train_acc, _ = sess.run([loss, acc, train_step], feed_dict={X: train_batch_x, y: train_batch_y})\n",
    "            \n",
    "            if iter_i != 0 and iter_i % show_every == 0:\n",
    "                print(time.clock() - start)\n",
    "                log_file = open('20170927log.txt', 'a+')\n",
    "                print('train_iter: %d, loss: %f, acc: %f' % (iter_i, _loss, _train_acc))\n",
    "                log_file.write('train_iter: %d, loss: %f, acc: %f \\n' % (iter_i, _loss, _train_acc))\n",
    "                log_file.close()\n",
    "                start = time.clock()\n",
    "                \n",
    "            if iter_i != 0 and iter_i % validate_every == 0:\n",
    "                val_start = time.clock()\n",
    "                val_iter_i = np.random.choice(num_val_images // val_batch_size, 1)\n",
    "                val_batch_start_idx = (val_iter_i * val_batch_size) % num_val_images\n",
    "                val_batch_index_array = val_index_array_all[val_batch_start_idx : val_batch_start_idx + val_batch_size]\n",
    "                val_batch_x, val_batch_y = get_batch(train_bson_file, val_images_df, train_offsets_df, val_batch_index_array, with_labels=True)\n",
    "                _val_acc = sess.run(acc, feed_dict={X: val_batch_x, y: val_batch_y})\n",
    "                val_elapsed = time.clock() - val_start\n",
    "                print('val_elapsed: %f, val acc: %f' % (val_elapsed, _val_acc))"
   ]
  },
  {
   "cell_type": "code",
   "execution_count": null,
   "metadata": {
    "scrolled": true
   },
   "outputs": [
    {
     "name": "stdout",
     "output_type": "stream",
     "text": [
      "training...\n",
      "epoch 0:\n"
     ]
    }
   ],
   "source": [
    "sess = tf.Session()\n",
    "\n",
    "train_step = tf.train.AdamOptimizer(learning_rate).minimize(loss)\n",
    "sess.run(tf.global_variables_initializer())\n",
    "print('training...')\n",
    "log_file = open('20170927log.txt', 'a+')\n",
    "log_file.write('training...\\n')\n",
    "log_file.close()\n",
    "run_model(sess, train_step, learning_rate, show_every=10, validate_every=10000000)"
   ]
  },
  {
   "cell_type": "code",
   "execution_count": 86,
   "metadata": {},
   "outputs": [],
   "source": [
    "test_batch_size = 1500\n",
    "import csv\n",
    "def test_model(sess, show_every):                \n",
    "    #submission = pd.read_csv('/mnt/data/cdiscount/sample_submission.csv')\n",
    "    submission_list = np.zeros([num_test_images, 2], dtype=np.uint32)\n",
    "    test_start = time.clock()\n",
    "    for test_iter_i in range(num_test_images // test_batch_size + 1):\n",
    "        test_batch_start_idx = test_iter_i * test_batch_size\n",
    "        test_batch_index_array = test_index_array_all[test_batch_start_idx : test_batch_start_idx + test_batch_size]\n",
    "        test_batch_x, test_batch_id = get_batch(test_bson_file, test_images_df, test_offsets_df, test_batch_index_array, with_labels=False)   \n",
    "        _test_predictions = sess.run(test_predictions, feed_dict={X: test_batch_x})\n",
    "        \n",
    "        submission_list[test_batch_start_idx: test_batch_start_idx + test_batch_size, 0] = test_batch_id\n",
    "        submission_list[test_batch_start_idx: test_batch_start_idx + test_batch_size, 1] = [idx2cat[idx] for idx in _test_predictions]\n",
    "        #tmp_start = time.clock()\n",
    "        #for pred_i, item in enumerate(test_batch_id):\n",
    "        #    submission.loc[submission['_id']==item, 'category_id'] = idx2cat[_test_predictions[pred_i]]\n",
    "        #print(test_batch_id)\n",
    "        #print([idx2cat[idx] for idx in _test_predictions])\n",
    "        #submission.loc[submission['_id'].isin(test_batch_id), 'category_id'] = [idx2cat[idx] for idx in _test_predictions]\n",
    "        #print('loc and assign time = %f' % (time.clock() - tmp_start))\n",
    "        #log_file = open('20170927_test_log.txt', 'a+')\n",
    "        #log_file.write('max test id: %d \\n' % test_batch_id.max(axis=0))\n",
    "        #log_file.close()\n",
    "        \n",
    "        if (test_iter_i % show_every == 0):\n",
    "            print('test_iter: %d, test elapse: %f' % (test_iter_i, (time.clock() - test_start)))\n",
    "            log_file = open('20170927_test_log.txt', 'a+')\n",
    "            log_file.write('test_iter: %d, test elapse: %f \\n' % (test_iter_i, (time.clock() - test_start)))\n",
    "            log_file.close()\n",
    "            test_start = time.clock()\n",
    "    \n",
    "    #submission.to_csv('new_submission_09261156.csv.gz', compression='gzip')\n",
    "    with open(\"submission_20170927.csv\", \"w\") as outfile:\n",
    "        csvwriter = csv.writer(outfile)\n",
    "        csvwriter.writerows(submission_list.tolist())"
   ]
  },
  {
   "cell_type": "code",
   "execution_count": 87,
   "metadata": {
    "scrolled": false
   },
   "outputs": [
    {
     "name": "stdout",
     "output_type": "stream",
     "text": [
      "testing...\n",
      "done!\n"
     ]
    }
   ],
   "source": [
    "print('testing...')\n",
    "#log_file = open('20170927log.txt', 'a+')\n",
    "#log_file.write('testing...\\n')\n",
    "#log_file.close()\n",
    "test_model(sess, show_every=1000)\n",
    "print('done!')\n",
    "log_file = open('20170927_test_log.txt', 'a+')\n",
    "log_file.write('done!')\n",
    "log_file.close()"
   ]
  },
  {
   "cell_type": "code",
   "execution_count": null,
   "metadata": {
    "collapsed": true
   },
   "outputs": [],
   "source": []
  },
  {
   "cell_type": "code",
   "execution_count": null,
   "metadata": {
    "collapsed": true
   },
   "outputs": [],
   "source": []
  }
 ],
 "metadata": {
  "kernelspec": {
   "display_name": "Python 3",
   "language": "python",
   "name": "python3"
  },
  "language_info": {
   "codemirror_mode": {
    "name": "ipython",
    "version": 3
   },
   "file_extension": ".py",
   "mimetype": "text/x-python",
   "name": "python",
   "nbconvert_exporter": "python",
   "pygments_lexer": "ipython3",
   "version": "3.5.2"
  }
 },
 "nbformat": 4,
 "nbformat_minor": 2
}
