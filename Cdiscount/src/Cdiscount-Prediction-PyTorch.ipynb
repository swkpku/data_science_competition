{
 "cells": [
  {
   "cell_type": "code",
   "execution_count": 1,
   "metadata": {
    "collapsed": true
   },
   "outputs": [],
   "source": [
    "import torch\n",
    "import os\n",
    "from torch.utils.data import DataLoader\n",
    "from dataset.dataset import get_cdiscount_dataset\n",
    "from model.model import assemble_model\n",
    "from predictor.predictor import get_predictor\n",
    "\n",
    "# Ignore warnings\n",
    "import warnings\n",
    "warnings.filterwarnings(\"ignore\")"
   ]
  },
  {
   "cell_type": "code",
   "execution_count": 2,
   "metadata": {},
   "outputs": [],
   "source": [
    "config = {\n",
    "    'test_batch_size': 1000,\n",
    "    'arch': 'resnet34',\n",
    "    'checkpoint': 'resnet34_checkpoint_epoch_0_iter_3000.pth.tar',\n",
    "    'print_freq': 10,\n",
    "    'pred_filename': \"Resnet34-Epoch_0-iter-3000.csv\"\n",
    "}"
   ]
  },
  {
   "cell_type": "code",
   "execution_count": null,
   "metadata": {},
   "outputs": [
    {
     "name": "stdout",
     "output_type": "stream",
     "text": [
      "getting dataset...\n",
      "getting data loader...\n",
      "=> using pre-trained model 'resnet34'\n",
      "=> loading checkpoint 'resnet34_checkpoint_epoch_0_iter_3000.pth.tar'\n",
      "=> loaded checkpoint:\n",
      "Epoch: [0][3000]\tLoss 3.0118 (3.5749)\tPrec@1 44.922 (40.549)\tPrec@5 64.844 (57.848)\n",
      "start prediction\n",
      "Iter: [0/3096]\tTime 31.179\tData 29.271\t\n",
      "Iter: [10/3096]\tTime 2.702\tData 0.014\t\n",
      "Iter: [20/3096]\tTime 2.979\tData 0.010\t\n",
      "Iter: [30/3096]\tTime 17.188\tData 15.086\t\n",
      "Iter: [40/3096]\tTime 2.792\tData 0.017\t\n",
      "Iter: [50/3096]\tTime 2.974\tData 0.001\t\n",
      "Iter: [60/3096]\tTime 16.912\tData 14.708\t\n"
     ]
    }
   ],
   "source": [
    "import torchvision.models as models\n",
    "\n",
    "# get dataset\n",
    "print('getting dataset...')\n",
    "test_dataset = get_cdiscount_dataset(offsets_csv=\"test_offsets.csv\",\n",
    "                                     images_csv=\"test_images.csv\",\n",
    "                                     bson_file_path=\"/mnt/data/cdiscount/test.bson\",\n",
    "                                     with_label=False,\n",
    "                                     resize=256)\n",
    "\n",
    "# get data loader\n",
    "print('getting data loader...')\n",
    "test_dataloader = DataLoader(test_dataset, batch_size=config['test_batch_size'], shuffle=False, num_workers=6)\n",
    "\n",
    "# define model\n",
    "print(\"=> using pre-trained model '{}'\".format(config['arch']))\n",
    "model = models.__dict__[config['arch']](pretrained=True)\n",
    "model = assemble_model(model, -1, 512, 5270)\n",
    "model = torch.nn.DataParallel(model).cuda()\n",
    "\n",
    "\n",
    "# load checkpoint\n",
    "if not os.path.isfile(config['checkpoint']):\n",
    "    print(\"=> no checkpoint found at '{}'\".format(config['checkpoint']))\n",
    "    \n",
    "print(\"=> loading checkpoint '{}'\".format(config['checkpoint']))\n",
    "checkpoint = torch.load(config['checkpoint'])\n",
    "model.load_state_dict(checkpoint['state_dict'])\n",
    "print(\"=> loaded checkpoint:\")\n",
    "\n",
    "print('Epoch: [{0}][{1}]\\t'\n",
    "      'Loss {loss.val:.4f} ({loss.avg:.4f})\\t'\n",
    "      'Prec@1 {top1.val:.3f} ({top1.avg:.3f})\\t'\n",
    "      'Prec@5 {top5.val:.3f} ({top5.avg:.3f})'.format(\n",
    "       checkpoint['epoch'], checkpoint['iter'], loss=checkpoint['loss'], top1=checkpoint['top1'], top5=checkpoint['top5']))\n",
    "\n",
    "# get trainer\n",
    "Predictor = get_predictor(test_dataloader, model, config)\n",
    "\n",
    "# Run!\n",
    "Predictor.run()"
   ]
  },
  {
   "cell_type": "code",
   "execution_count": null,
   "metadata": {
    "collapsed": true
   },
   "outputs": [],
   "source": []
  }
 ],
 "metadata": {
  "kernelspec": {
   "display_name": "Python 3",
   "language": "python",
   "name": "python3"
  },
  "language_info": {
   "codemirror_mode": {
    "name": "ipython",
    "version": 3
   },
   "file_extension": ".py",
   "mimetype": "text/x-python",
   "name": "python",
   "nbconvert_exporter": "python",
   "pygments_lexer": "ipython3",
   "version": "3.5.2"
  }
 },
 "nbformat": 4,
 "nbformat_minor": 2
}
