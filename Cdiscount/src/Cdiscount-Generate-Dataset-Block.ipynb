{
 "cells": [
  {
   "cell_type": "code",
   "execution_count": 1,
   "metadata": {},
   "outputs": [
    {
     "name": "stdout",
     "output_type": "stream",
     "text": [
      "category_names.csv\n",
      "sample_submission.csv\n",
      "test.bson\n",
      "train.bson\n",
      "train_example.bson\n",
      "\n"
     ]
    }
   ],
   "source": [
    "import os, sys, math, io\n",
    "import numpy as np\n",
    "import pandas as pd\n",
    "import multiprocessing as mp\n",
    "import bson\n",
    "import struct\n",
    "\n",
    "%matplotlib inline\n",
    "import matplotlib.pyplot as plt\n",
    "\n",
    "import tensorflow as tf\n",
    "\n",
    "from collections import defaultdict\n",
    "from tqdm import *\n",
    "\n",
    "data_dir = '/mnt/data/cdiscount/'\n",
    "result_dir = './'\n",
    "\n",
    "from subprocess import check_output\n",
    "print(check_output([\"ls\", data_dir]).decode(\"utf8\"))\n",
    "\n",
    "# Any results you write to the current directory are saved as output."
   ]
  },
  {
   "cell_type": "code",
   "execution_count": 5,
   "metadata": {},
   "outputs": [
    {
     "name": "stdout",
     "output_type": "stream",
     "text": [
      "i = 0\n",
      "i = 100\n",
      "i = 200\n",
      "i = 300\n",
      "i = 400\n",
      "i = 500\n",
      "i = 600\n",
      "i = 700\n",
      "i = 800\n",
      "i = 900\n",
      "i = 1000\n"
     ]
    }
   ],
   "source": [
    "num_train_products = 7069896\n",
    "num_blocks = 5\n",
    "\n",
    "train_bson = bson.decode_file_iter(open(os.path.join(data_dir, 'train.bson'), 'rb'))\n",
    "\n",
    "train_bson_block_1 = open(os.path.join(result_dir, 'train_block_1.bson'), 'wb')\n",
    "train_bson_block_2 = open(os.path.join(result_dir, 'train_block_2.bson'), 'wb')\n",
    "train_bson_block_3 = open(os.path.join(result_dir, 'train_block_3.bson'), 'wb')\n",
    "train_bson_block_4 = open(os.path.join(result_dir, 'train_block_4.bson'), 'wb')\n",
    "train_bson_block_5 = open(os.path.join(result_dir, 'train_block_5.bson'), 'wb')\n",
    "\n",
    "for i, item in enumerate(train_bson):\n",
    "    if (i % 5 == 0):\n",
    "        train_bson_block_1.write(bson.BSON.encode(item))\n",
    "    elif (i % 5 == 1):\n",
    "        train_bson_block_2.write(bson.BSON.encode(item))\n",
    "    elif (i % 5 == 2):\n",
    "        train_bson_block_3.write(bson.BSON.encode(item))\n",
    "    elif (i % 5 == 3):\n",
    "        train_bson_block_4.write(bson.BSON.encode(item))\n",
    "    else:\n",
    "        train_bson_block_5.write(bson.BSON.encode(item))\n",
    "    if (i % 100000 == 0):\n",
    "        print('i = %d' % i)"
   ]
  },
  {
   "cell_type": "code",
   "execution_count": 1,
   "metadata": {},
   "outputs": [
    {
     "name": "stdout",
     "output_type": "stream",
     "text": [
      "Filesystem      Size  Used Avail Use% Mounted on\r\n",
      "udev             28G     0   28G   0% /dev\r\n",
      "tmpfs           5.6G   57M  5.5G   2% /run\r\n",
      "/dev/sda1        30G   17G   13G  59% /\r\n",
      "tmpfs            28G     0   28G   0% /dev/shm\r\n",
      "tmpfs           5.0M     0  5.0M   0% /run/lock\r\n",
      "tmpfs            28G     0   28G   0% /sys/fs/cgroup\r\n",
      "/dev/sdb1       335G   73G  245G  23% /mnt\r\n",
      "tmpfs           5.6G   24K  5.6G   1% /run/user/1000\r\n"
     ]
    }
   ],
   "source": [
    "!df -h"
   ]
  },
  {
   "cell_type": "code",
   "execution_count": null,
   "metadata": {
    "collapsed": true
   },
   "outputs": [],
   "source": []
  }
 ],
 "metadata": {
  "kernelspec": {
   "display_name": "Python 3",
   "language": "python",
   "name": "python3"
  },
  "language_info": {
   "codemirror_mode": {
    "name": "ipython",
    "version": 3
   },
   "file_extension": ".py",
   "mimetype": "text/x-python",
   "name": "python",
   "nbconvert_exporter": "python",
   "pygments_lexer": "ipython3",
   "version": "3.5.2"
  }
 },
 "nbformat": 4,
 "nbformat_minor": 2
}
