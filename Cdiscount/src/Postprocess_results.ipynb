{
 "cells": [
  {
   "cell_type": "code",
   "execution_count": 2,
   "metadata": {
    "scrolled": false
   },
   "outputs": [],
   "source": [
    "from collections import OrderedDict\n",
    "from collections import Counter\n",
    "import pandas as pd\n",
    "\n",
    "def make_category_tables():\n",
    "    cat2idx = {}\n",
    "    idx2cat = {}\n",
    "    for ir in categories_df.itertuples():\n",
    "        category_id = ir[0]\n",
    "        category_idx = ir[4]\n",
    "        cat2idx[category_id] = category_idx\n",
    "        idx2cat[category_idx] = category_id\n",
    "    return cat2idx, idx2cat\n",
    "\n",
    "categories_df = pd.read_csv(\"categories.csv\", index_col=0)\n",
    "cat2idx, idx2cat = make_category_tables()\n",
    "\n",
    "def most_frequent_first(events):\n",
    "    frequencies = Counter(events)\n",
    "    indexes = {event: i for i, event in enumerate(events)}\n",
    "    most_frequent_with_indexes = {indexes[key]: key for key, _ in frequencies.most_common()}\n",
    "    return min(most_frequent_with_indexes.items())[1]\n",
    "\n",
    "submission_dict = OrderedDict()\n",
    "\n",
    "with open(\"vgg19_bn-Epoch_0-iter-63000.csv\", 'r') as f:\n",
    "    for line in f:\n",
    "        line = line[:-1] # remove the \\n\n",
    "        id_cat_pair = line.split(',')\n",
    "        submission_dict.setdefault(id_cat_pair[0], []).append(idx2cat[int(id_cat_pair[1])])\n",
    "\n",
    "for k, v in submission_dict.items():\n",
    "    submission_dict[k] = most_frequent_first(v)\n",
    "\n",
    "with open(\"vgg19_bn-Epoch_0-iter-63000_postprocessed.csv\", 'w') as f:\n",
    "    for k, v in submission_dict.items():\n",
    "        f.write(k + ',' + str(v) + '\\r\\n')\n",
    "    f.close()"
   ]
  },
  {
   "cell_type": "code",
   "execution_count": null,
   "metadata": {
    "collapsed": true
   },
   "outputs": [],
   "source": []
  }
 ],
 "metadata": {
  "kernelspec": {
   "display_name": "Python 3",
   "language": "python",
   "name": "python3"
  },
  "language_info": {
   "codemirror_mode": {
    "name": "ipython",
    "version": 3
   },
   "file_extension": ".py",
   "mimetype": "text/x-python",
   "name": "python",
   "nbconvert_exporter": "python",
   "pygments_lexer": "ipython3",
   "version": "3.5.2"
  }
 },
 "nbformat": 4,
 "nbformat_minor": 2
}
