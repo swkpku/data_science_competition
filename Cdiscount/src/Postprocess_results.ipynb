{
 "cells": [
  {
   "cell_type": "code",
   "execution_count": 1,
   "metadata": {
    "collapsed": true
   },
   "outputs": [],
   "source": [
    "from collections import OrderedDict\n",
    "from collections import Counter\n",
    "\n",
    "def most_frequent_first(events):\n",
    "    frequencies = Counter(events)\n",
    "    indexes = {event: i for i, event in enumerate(events)}\n",
    "    most_frequent_with_indexes = {indexes[key]: key for key, _ in frequencies.most_common()}\n",
    "    return min(most_frequent_with_indexes.items())[1]\n",
    "\n",
    "submission_dict = OrderedDict()\n",
    "\n",
    "with open(\"submission_20171001.csv\", 'r') as f:\n",
    "    for line in f:\n",
    "        id_cat_pair = line.split(',')\n",
    "        submission_dict.setdefault(id_cat_pair[0], []).append(id_cat_pair[1])\n",
    "\n",
    "for k, v in submission_dict.items():\n",
    "    submission_dict[k] = most_frequent_first(v)\n",
    "\n",
    "with open(\"submission_20171001_postprocessed.csv\", 'w') as f:\n",
    "    for k, v in submission_dict.items():\n",
    "        f.write(k + ',' + v)\n",
    "    f.close()"
   ]
  },
  {
   "cell_type": "code",
   "execution_count": null,
   "metadata": {
    "collapsed": true
   },
   "outputs": [],
   "source": []
  }
 ],
 "metadata": {
  "kernelspec": {
   "display_name": "Python 3",
   "language": "python",
   "name": "python3"
  },
  "language_info": {
   "codemirror_mode": {
    "name": "ipython",
    "version": 3
   },
   "file_extension": ".py",
   "mimetype": "text/x-python",
   "name": "python",
   "nbconvert_exporter": "python",
   "pygments_lexer": "ipython3",
   "version": "3.5.2"
  }
 },
 "nbformat": 4,
 "nbformat_minor": 2
}
