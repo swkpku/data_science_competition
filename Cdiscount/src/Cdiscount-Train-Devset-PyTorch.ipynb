{
 "cells": [
  {
   "cell_type": "code",
   "execution_count": 1,
   "metadata": {},
   "outputs": [],
   "source": [
    "from __future__ import print_function, division\n",
    "import os\n",
    "from io import BytesIO\n",
    "import bson\n",
    "import torch\n",
    "import pandas as pd\n",
    "from skimage import io, transform\n",
    "import numpy as np\n",
    "import matplotlib.pyplot as plt\n",
    "from torch.utils.data import Dataset, DataLoader\n",
    "from torchvision import transforms, utils"
   ]
  },
  {
   "cell_type": "code",
   "execution_count": 2,
   "metadata": {
    "collapsed": true
   },
   "outputs": [],
   "source": [
    "# Ignore warnings\n",
    "import warnings\n",
    "warnings.filterwarnings(\"ignore\")\n",
    "\n",
    "plt.ion()"
   ]
  },
  {
   "cell_type": "code",
   "execution_count": 10,
   "metadata": {
    "collapsed": true
   },
   "outputs": [],
   "source": [
    "class CdiscountDataset(Dataset):\n",
    "    \"\"\"Cdiscount dataset.\"\"\"\n",
    "\n",
    "    def __init__(self, offsets_csv, images_csv, bson_file_path, with_label, transform=None):\n",
    "        self.offsets_df = pd.read_csv(offsets_csv, index_col=0)\n",
    "        self.images_df = pd.read_csv(images_csv, index_col=0)\n",
    "        self.bson_file_path = bson_file_path\n",
    "        self.with_label = with_label\n",
    "        self.transform = transform\n",
    "\n",
    "    def __len__(self):\n",
    "        return len(self.images_df)\n",
    "\n",
    "    def __getitem__(self, idx):\n",
    "        image_row = self.images_df.iloc[idx]\n",
    "        product_id = image_row[\"product_id\"]\n",
    "        offset_row = self.offsets_df.loc[product_id]\n",
    "\n",
    "        # Read this product's data from the BSON file.\n",
    "        bson_file = open(self.bson_file_path, \"rb\")\n",
    "        bson_file.seek(offset_row[\"offset\"])\n",
    "        item_data = bson_file.read(offset_row[\"length\"])\n",
    "\n",
    "        # Grab the image from the product.\n",
    "        item = bson.BSON.decode(item_data)\n",
    "        img_idx = image_row[\"img_idx\"]\n",
    "        bson_img = item[\"imgs\"][img_idx][\"picture\"]\n",
    "        img = io.imread(BytesIO(bson_img))\n",
    "        \n",
    "        if self.transform:\n",
    "            img = self.transform(img)\n",
    "            \n",
    "        label = torch.FloatTensor(1)        \n",
    "        if self.with_label:\n",
    "            label = torch.FloatTensor([image_row[\"category_idx\"].item()])\n",
    "\n",
    "        sample = {'img': img, 'label': label}\n",
    "        return sample"
   ]
  },
  {
   "cell_type": "code",
   "execution_count": 11,
   "metadata": {},
   "outputs": [],
   "source": [
    "class Rescale(object):\n",
    "    def __init__(self, output_size):\n",
    "        assert isinstance(output_size, (int, tuple))\n",
    "        self.output_size = output_size\n",
    "\n",
    "    def __call__(self, sample):\n",
    "        img = transform.resize(sample, (self.output_size, self.output_size))\n",
    "        return img\n",
    "    \n",
    "class ToTensor(object):\n",
    "    def __call__(self, sample):\n",
    "        sample = sample.transpose((2, 0, 1))\n",
    "        return torch.from_numpy(sample)\n",
    "\n",
    "# train_dataset = CdiscountDataset(\n",
    "#     offsets_csv=\"train_offsets.csv\",\n",
    "#     images_csv=\"dev_train_images.csv\",\n",
    "#     bson_file_path=\"/mnt/data/cdiscount/train.bson\",\n",
    "#     with_label=True,\n",
    "#     transform=transforms.Compose([\n",
    "#         Rescale(128),\n",
    "#         ToTensor()\n",
    "#     ])\n",
    "# )\n",
    "\n",
    "val_dataset = CdiscountDataset(\n",
    "    offsets_csv=\"train_offsets.csv\",\n",
    "    images_csv=\"dev_val_images.csv\",\n",
    "    bson_file_path=\"/mnt/data/cdiscount/train.bson\",\n",
    "    with_label=True,\n",
    "    transform=transforms.Compose([\n",
    "        Rescale(256),\n",
    "        ToTensor()\n",
    "    ])\n",
    ")"
   ]
  },
  {
   "cell_type": "code",
   "execution_count": 12,
   "metadata": {},
   "outputs": [],
   "source": [
    "# for i in range(len(val_dataset)):\n",
    "#     sample = val_dataset[i]\n",
    "#     img, label = sample['img'], sample['label']\n",
    "#     print(label)\n",
    "#     if i == 30:\n",
    "#         break"
   ]
  },
  {
   "cell_type": "code",
   "execution_count": 18,
   "metadata": {},
   "outputs": [],
   "source": [
    "val_dataloader = DataLoader(val_dataset, batch_size=512, shuffle=True, num_workers=6)"
   ]
  },
  {
   "cell_type": "code",
   "execution_count": 19,
   "metadata": {},
   "outputs": [
    {
     "name": "stdout",
     "output_type": "stream",
     "text": [
      "0\n",
      "1\n",
      "2\n",
      "3\n",
      "4\n",
      "5\n",
      "6\n",
      "7\n",
      "8\n",
      "9\n",
      "10\n",
      "time elapsed 0.795648\n"
     ]
    }
   ],
   "source": [
    "import time\n",
    "\n",
    "time_start = time.clock()\n",
    "for i_batch, sample_batched in enumerate(val_dataloader):\n",
    "    print(i_batch)\n",
    "    if (i_batch == 10):\n",
    "        break\n",
    "print('time elapsed %f'%(time.clock() - time_start))"
   ]
  },
  {
   "cell_type": "code",
   "execution_count": null,
   "metadata": {
    "collapsed": true
   },
   "outputs": [],
   "source": []
  }
 ],
 "metadata": {
  "kernelspec": {
   "display_name": "Python 3",
   "language": "python",
   "name": "python3"
  },
  "language_info": {
   "codemirror_mode": {
    "name": "ipython",
    "version": 3
   },
   "file_extension": ".py",
   "mimetype": "text/x-python",
   "name": "python",
   "nbconvert_exporter": "python",
   "pygments_lexer": "ipython3",
   "version": "3.5.2"
  }
 },
 "nbformat": 4,
 "nbformat_minor": 2
}
